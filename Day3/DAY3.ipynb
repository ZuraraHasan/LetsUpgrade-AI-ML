{
 "cells": [
  {
   "cell_type": "markdown",
   "metadata": {},
   "source": [
    "Question 1 :\n",
    "Write a program to subtract two complex numbers in Python."
   ]
  },
  {
   "cell_type": "code",
   "execution_count": 1,
   "metadata": {},
   "outputs": [
    {
     "name": "stdout",
     "output_type": "stream",
     "text": [
      "-5\n"
     ]
    }
   ],
   "source": [
    "a=5\n",
    "b=10\n",
    "c=a-b\n",
    "print(c)"
   ]
  },
  {
   "cell_type": "markdown",
   "metadata": {},
   "source": [
    "Question 2 :\n",
    "Write a program to find the fourth root of a number."
   ]
  },
  {
   "cell_type": "code",
   "execution_count": 22,
   "metadata": {},
   "outputs": [
    {
     "name": "stdout",
     "output_type": "stream",
     "text": [
      "2.0\n"
     ]
    }
   ],
   "source": [
    "a=1/4\n",
    "b=16\n",
    "c=16**a\n",
    "print(c)"
   ]
  },
  {
   "cell_type": "markdown",
   "metadata": {},
   "source": [
    "Question 3:\n",
    "Write a program to swap two numbers in Python with the help of a temporary variable."
   ]
  },
  {
   "cell_type": "code",
   "execution_count": 6,
   "metadata": {},
   "outputs": [
    {
     "name": "stdout",
     "output_type": "stream",
     "text": [
      "6 5\n"
     ]
    }
   ],
   "source": [
    "a=5\n",
    "b=6\n",
    "temp=a\n",
    "a=b\n",
    "b=temp\n",
    "print(a,b)"
   ]
  },
  {
   "cell_type": "markdown",
   "metadata": {},
   "source": [
    "Question 4:\n",
    "Write a program to swap two numbers in Python without using a temporary variable."
   ]
  },
  {
   "cell_type": "code",
   "execution_count": 1,
   "metadata": {},
   "outputs": [
    {
     "name": "stdout",
     "output_type": "stream",
     "text": [
      "Before swapping: \n",
      "Value of x :  5  and y :  7\n",
      "After swapping: \n",
      "Value of x :  7  and y :  5\n"
     ]
    }
   ],
   "source": [
    "x = 5\n",
    "y = 7\n",
    "  \n",
    "print (\"Before swapping: \") \n",
    "print(\"Value of x : \", x, \" and y : \", y) \n",
    "x, y = y, x \n",
    "  \n",
    "print (\"After swapping: \") \n",
    "print(\"Value of x : \", x, \" and y : \", y) "
   ]
  },
  {
   "cell_type": "markdown",
   "metadata": {},
   "source": [
    "Question 5:\n",
    "Write a program to convert fahrenheit to kelvin and celsius both."
   ]
  },
  {
   "cell_type": "code",
   "execution_count": 19,
   "metadata": {},
   "outputs": [
    {
     "name": "stdout",
     "output_type": "stream",
     "text": [
      "100 F= 37.77777777777778 C and 310.77777777777777 K\n"
     ]
    }
   ],
   "source": [
    "a=100\n",
    "c=((a-32)*5)/9\n",
    "k=c+273\n",
    "print(a,\"F=\",c,\"C and\",k,\"K\")"
   ]
  },
  {
   "cell_type": "markdown",
   "metadata": {},
   "source": [
    "Question 6:\n",
    "Write a program to demonstrate all the available data types in Python. Hint: Use type() function.\n",
    "    "
   ]
  },
  {
   "cell_type": "code",
   "execution_count": 5,
   "metadata": {},
   "outputs": [
    {
     "name": "stdout",
     "output_type": "stream",
     "text": [
      "5 <class 'int'>\n",
      "(5+2j) <class 'complex'>\n",
      "4.65 <class 'float'>\n",
      "zurara <class 'str'>\n",
      "[1, 2, 3, 'a'] <class 'list'>\n",
      "(1, 2, 3, 'a') <class 'tuple'>\n",
      "{'a': 1, 'b': 2, 'c': 6, 10: 'GREEN'} <class 'dict'>\n"
     ]
    }
   ],
   "source": [
    "    num = 5\n",
    "    print(num,type(num))\n",
    "    c = complex(5,2)\n",
    "    print(c,type(c))\n",
    "    decimal = 4.65\n",
    "    print(decimal,type(decimal))\n",
    "    string = \"zurara\"\n",
    "    print(string,type(string))\n",
    "    l = [1,2,3,'a']\n",
    "    print(l,type(l))\n",
    "    t = (1,2,3,'a')\n",
    "    print(t,type(t))\n",
    "    d = {'a': 1,'b': 2,'c': 6, 10 : 'GREEN'}\n",
    "    print(d,type(d))"
   ]
  },
  {
   "cell_type": "markdown",
   "metadata": {},
   "source": [
    "Question 7:\n",
    "Create a Markdown cell in jupyter and list the steps discussed in the session by Dr. Darshan\n",
    "Ingle sir to create Github profile and upload Githubs Assignment link."
   ]
  },
  {
   "cell_type": "markdown",
   "metadata": {},
   "source": [
    "Answer\n",
    "1 Open github and click on signup and create a profile like on gmail.\n",
    "\n",
    "2 Click on New and name the repository as LetsUpgrade AI ML and click on create without making any changes in the default settings.\n",
    "\n",
    "3 Create a folder on your local machine named as Day3 and save your python notebook in that folder.\n",
    "\n",
    "4 In the repository click on upload an existing file and drag and drop Day3 folder and click on commit changes."
   ]
  },
  {
   "cell_type": "markdown",
   "metadata": {},
   "source": []
  }
 ],
 "metadata": {
  "kernelspec": {
   "display_name": "Python 3",
   "language": "python",
   "name": "python3"
  },
  "language_info": {
   "codemirror_mode": {
    "name": "ipython",
    "version": 3
   },
   "file_extension": ".py",
   "mimetype": "text/x-python",
   "name": "python",
   "nbconvert_exporter": "python",
   "pygments_lexer": "ipython3",
   "version": "3.7.4"
  }
 },
 "nbformat": 4,
 "nbformat_minor": 2
}
